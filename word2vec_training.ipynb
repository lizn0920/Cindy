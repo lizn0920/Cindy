{
 "cells": [
  {
   "cell_type": "code",
   "execution_count": null,
   "metadata": {},
   "outputs": [],
   "source": [
    "import gensim\n",
    "import re\n",
    "from gensim.models import word2vec\n",
    "sentences = word2vec.LineSentence(\"judgement_seg_ip.txt\")\n",
    "print(\"now training\")\n",
    "model = word2vec.Word2Vec(sentences, size=250)\n",
    "print(\"now saving\")\n",
    "model.save(\"all.model\")"
   ]
  },
  {
   "cell_type": "markdown",
   "metadata": {},
   "source": [
    "1. 訓練檔必須是以**空白**隔開的文字字串，每一行是一個document。\n",
    "2. 訓練好的model必需存檔\n",
    "3. 目前訓練的過程曠日費時...還沒找出可以加速的辦法（可參考網路上用blas庫加速的例子，但我研究了許久還是不太會用ＱＱ）"
   ]
  },
  {
   "cell_type": "code",
   "execution_count": 6,
   "metadata": {
    "scrolled": true
   },
   "outputs": [
    {
     "name": "stdout",
     "output_type": "stream",
     "text": [
      "輸入中文單詞，輸入q以結束程式：侵害\n"
     ]
    },
    {
     "name": "stderr",
     "output_type": "stream",
     "text": [
      "/Users/NRB/.virtualenvs/wordAnalysis/lib/python3.7/site-packages/ipykernel_launcher.py:16: DeprecationWarning: Call to deprecated `most_similar` (Method will be removed in 4.0.0, use self.wv.most_similar() instead).\n",
      "  app.launch_new_instance()\n"
     ]
    },
    {
     "name": "stdout",
     "output_type": "stream",
     "text": [
      "['侵犯0.6756181716918945', '不法侵害0.6714203357696533', '侵權0.552156388759613', '侵害到0.5487319827079773', '享有0.48798778653144836', '侵害商標權0.48263317346572876', '侵奪0.4589250087738037', '侵害專利權0.4563673138618469', '攀附0.44676122069358826', '擁有0.4464166462421417']\n",
      "輸入中文單詞，輸入q以結束程式：權利\n",
      "['權益0.5877707004547119', '使用權0.5625773668289185', '權之0.542866051197052', '合法權利0.536064088344574', '權0.5253649353981018', '正當權利0.5202337503433228', '著作權0.5008571743965149', '所有權0.49877896904945374', '訴訟權0.49465569853782654', '智慧財產權0.4885404706001282']\n",
      "輸入中文單詞，輸入q以結束程式：智財\n",
      "['中標0.7869457006454468', '智慧0.7809975743293762', '刑事警察0.7699413895606995', '菸酒公賣0.7666016817092896', '水資源0.6885015964508057', '該藥0.6808902621269226', '河川0.666212797164917', '關稅0.6657679677009583', '食管0.633377194404602', '健保0.6314082145690918']\n",
      "輸入中文單詞，輸入q以結束程式：q\n"
     ]
    }
   ],
   "source": [
    "import gensim\n",
    "from collections import Counter\n",
    "import csv\n",
    "import re\n",
    "\n",
    "#word2vec的model\n",
    "model = gensim.models.Word2Vec.load(\"ip.model\")\n",
    "word='hello'\n",
    "\n",
    "while True:\n",
    "    word=input(\"輸入中文單詞，輸入q以結束程式：\")\n",
    "    if word == 'q':\n",
    "        break\n",
    "    try:\n",
    "        a=[]\n",
    "        result = model.most_similar(word) #前十相近詞\n",
    "        for each in result: \n",
    "            a.append(each[0]+str(each[1]))\n",
    "        print(a)\n",
    "    except KeyError:\n",
    "        print(\"您輸入的詞過於冷門，找不到喔><\")"
   ]
  },
  {
   "cell_type": "markdown",
   "metadata": {},
   "source": [
    "1. 先load訓練好的模型，這裡用的是剛剛訓練好的智慧財產判決的模型。\n",
    "2. 輸入一個詞，他會給你以詞向量計算出的前十名相近詞（這十個詞在向量上和該詞的距離最短）\n",
    "3. 如果輸入的詞不在word2vec的詞庫裡，會出現KeyError。"
   ]
  },
  {
   "cell_type": "code",
   "execution_count": null,
   "metadata": {},
   "outputs": [],
   "source": []
  }
 ],
 "metadata": {
  "kernelspec": {
   "display_name": "Python 3",
   "language": "python",
   "name": "python3"
  },
  "language_info": {
   "codemirror_mode": {
    "name": "ipython",
    "version": 3
   },
   "file_extension": ".py",
   "mimetype": "text/x-python",
   "name": "python",
   "nbconvert_exporter": "python",
   "pygments_lexer": "ipython3",
   "version": "3.7.2"
  }
 },
 "nbformat": 4,
 "nbformat_minor": 2
}
